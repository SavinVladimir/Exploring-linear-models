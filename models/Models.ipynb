{
 "cells": [
  {
   "cell_type": "code",
   "execution_count": 1,
   "metadata": {},
   "outputs": [],
   "source": [
    "import pandas as pd\n",
    "import numpy as np"
   ]
  },
  {
   "cell_type": "code",
   "execution_count": 2,
   "metadata": {
    "pycharm": {
     "is_executing": true
    }
   },
   "outputs": [],
   "source": [
    "from sklearn.model_selection import train_test_split\n",
    "from sklearn.preprocessing import StandardScaler\n",
    "from sklearn.pipeline import Pipeline\n",
    "from sklearn.model_selection import cross_val_score\n",
    "from sklearn import metrics"
   ]
  },
  {
   "cell_type": "code",
   "execution_count": 3,
   "metadata": {
    "pycharm": {
     "is_executing": true
    }
   },
   "outputs": [],
   "source": [
    "from sklearn.linear_model import LinearRegression\n",
    "from sklearn.linear_model import RANSACRegressor\n",
    "from sklearn.linear_model import Ridge\n",
    "from sklearn.linear_model import Lasso\n",
    "from sklearn.preprocessing import PolynomialFeatures\n",
    "from sklearn.linear_model import SGDRegressor\n",
    "from sklearn.svm import SVR"
   ]
  },
  {
   "cell_type": "code",
   "execution_count": 4,
   "metadata": {
    "pycharm": {
     "is_executing": true
    }
   },
   "outputs": [],
   "source": [
    "import warnings\n",
    "warnings.filterwarnings(\"ignore\")"
   ]
  },
  {
   "cell_type": "code",
   "execution_count": 5,
   "metadata": {
    "pycharm": {
     "is_executing": true
    }
   },
   "outputs": [],
   "source": [
    "data = pd.read_csv('../data/Housing_Prices.csv')"
   ]
  },
  {
   "cell_type": "code",
   "execution_count": 6,
   "metadata": {
    "pycharm": {
     "is_executing": true
    }
   },
   "outputs": [],
   "source": [
    "X = data[['Avg. Area Income', 'Avg. Area House Age', 'Avg. Area Number of Rooms',\n",
    "          'Avg. Area Number of Bedrooms', 'Area Population']]\n",
    "y = data['Price']"
   ]
  },
  {
   "cell_type": "code",
   "execution_count": 7,
   "metadata": {
    "pycharm": {
     "is_executing": true
    }
   },
   "outputs": [],
   "source": [
    "X_train, X_test, y_train, y_test = train_test_split(X, y, test_size=0.2,\n",
    "                                                    random_state=42)"
   ]
  },
  {
   "cell_type": "code",
   "execution_count": 8,
   "metadata": {
    "pycharm": {
     "is_executing": true
    }
   },
   "outputs": [],
   "source": [
    "pipeline = Pipeline([('std_scalar', StandardScaler())])\n",
    "X_train = pipeline.fit_transform(X_train)\n",
    "X_test = pipeline.transform(X_test)"
   ]
  },
  {
   "cell_type": "code",
   "execution_count": 9,
   "metadata": {
    "pycharm": {
     "is_executing": true
    }
   },
   "outputs": [],
   "source": [
    "def print_metrics(true_value, predicted_value):\n",
    "    mae = metrics.mean_absolute_error(true_value, predicted_value)\n",
    "    mse = metrics.mean_squared_error(true_value, predicted_value)\n",
    "    rmse = np.sqrt(metrics.mean_squared_error(true_value, predicted_value))\n",
    "    #msle = metrics.mean_squared_log_error(true_value, predicted_value)\n",
    "    r2 = metrics.r2_score(true_value, predicted_value)\n",
    "\n",
    "    print('MAE:', mae)\n",
    "    print('MSE:', mse)\n",
    "    print('RMSE:', rmse)\n",
    "    #print('MSLE:', msle)\n",
    "    print('R2 Square', r2)\n",
    "    print()\n",
    "\n",
    "\n",
    "def add_metrics_to_dataframe(true_value, predicted_value):\n",
    "    mae = metrics.mean_absolute_error(true_value, predicted_value)\n",
    "    mse = metrics.mean_squared_error(true_value, predicted_value)\n",
    "    rmse = np.sqrt(metrics.mean_squared_error(true_value, predicted_value))\n",
    "    # msle = metrics.mean_squared_log_error(true_value, predicted_value)\n",
    "    r2 = metrics.r2_score(true_value, predicted_value)\n",
    "\n",
    "    return mae, mse, rmse, r2"
   ]
  },
  {
   "cell_type": "markdown",
   "metadata": {},
   "source": [
    "# Множественная регрессия"
   ]
  },
  {
   "cell_type": "code",
   "execution_count": 10,
   "metadata": {
    "pycharm": {
     "is_executing": true
    }
   },
   "outputs": [
    {
     "data": {
      "text/plain": [
       "LinearRegression(normalize=True)"
      ]
     },
     "execution_count": 10,
     "metadata": {},
     "output_type": "execute_result"
    }
   ],
   "source": [
    "linear_regression= LinearRegression(normalize=True)\n",
    "linear_regression.fit(X_train,y_train)"
   ]
  },
  {
   "cell_type": "code",
   "execution_count": 11,
   "metadata": {
    "pycharm": {
     "is_executing": true
    }
   },
   "outputs": [],
   "source": [
    "test_pred_linear_regression = linear_regression.predict(X_test)\n",
    "train_pred_linear_regression = linear_regression.predict(X_train)"
   ]
  },
  {
   "cell_type": "code",
   "execution_count": 12,
   "metadata": {
    "pycharm": {
     "is_executing": true
    }
   },
   "outputs": [
    {
     "name": "stdout",
     "output_type": "stream",
     "text": [
      "Линейная регрессия\n",
      "\n",
      "Оценка тестового набора:\n",
      "\n",
      "MAE: 80879.09723489443\n",
      "MSE: 10089009300.89399\n",
      "RMSE: 100444.06055558482\n",
      "R2 Square 0.9179971706834331\n",
      "\n",
      "Оценка тренировочного набора:\n",
      "\n",
      "MAE: 81509.3933124445\n",
      "MSE: 10256318867.482723\n",
      "RMSE: 101273.48551068401\n",
      "R2 Square 0.9179787435623722\n",
      "\n"
     ]
    }
   ],
   "source": [
    "print('Линейная регрессия\\n')\n",
    "print('Оценка тестового набора:\\n')\n",
    "print_metrics(y_test, test_pred_linear_regression)\n",
    "print('Оценка тренировочного набора:\\n')\n",
    "print_metrics(y_train, train_pred_linear_regression)"
   ]
  },
  {
   "cell_type": "markdown",
   "metadata": {},
   "source": [
    "# Робастная регрессия"
   ]
  },
  {
   "cell_type": "code",
   "execution_count": 13,
   "metadata": {
    "pycharm": {
     "is_executing": true
    }
   },
   "outputs": [
    {
     "data": {
      "text/plain": [
       "RANSACRegressor(base_estimator=LinearRegression())"
      ]
     },
     "execution_count": 13,
     "metadata": {},
     "output_type": "execute_result"
    }
   ],
   "source": [
    "ransac_regression = RANSACRegressor(base_estimator=LinearRegression(),\n",
    "                                    max_trials=100)\n",
    "ransac_regression.fit(X_train, y_train)"
   ]
  },
  {
   "cell_type": "code",
   "execution_count": 14,
   "metadata": {
    "pycharm": {
     "is_executing": true
    }
   },
   "outputs": [],
   "source": [
    "test_pred_ransac_regression = ransac_regression.predict(X_test)\n",
    "train_pred_ransac_regression = ransac_regression.predict(X_train)"
   ]
  },
  {
   "cell_type": "code",
   "execution_count": 15,
   "metadata": {
    "pycharm": {
     "is_executing": true
    }
   },
   "outputs": [
    {
     "name": "stdout",
     "output_type": "stream",
     "text": [
      "Робастная регрессия\n",
      "Оценка тестового набора:\n",
      "\n",
      "MAE: 83349.12538554944\n",
      "MSE: 10710240039.34074\n",
      "RMSE: 103490.2895896071\n",
      "R2 Square 0.912947846543496\n",
      "\n",
      "Оценка тренировочного набора:\n",
      "\n",
      "MAE: 83736.86232029837\n",
      "MSE: 10990281714.691156\n",
      "RMSE: 104834.54447218796\n",
      "R2 Square 0.9121091371583203\n",
      "\n"
     ]
    }
   ],
   "source": [
    "print('Робастная регрессия')\n",
    "print('Оценка тестового набора:\\n')\n",
    "print_metrics(y_test, test_pred_ransac_regression)\n",
    "print('Оценка тренировочного набора:\\n')\n",
    "print_metrics(y_train, train_pred_ransac_regression)"
   ]
  },
  {
   "cell_type": "markdown",
   "metadata": {},
   "source": [
    "# Регрессия гребня"
   ]
  },
  {
   "cell_type": "code",
   "execution_count": 16,
   "metadata": {
    "pycharm": {
     "is_executing": true
    }
   },
   "outputs": [
    {
     "data": {
      "text/plain": [
       "Ridge(alpha=100, random_state=42, solver='cholesky', tol=0.0001)"
      ]
     },
     "execution_count": 16,
     "metadata": {},
     "output_type": "execute_result"
    }
   ],
   "source": [
    "ridge_regression = Ridge(alpha=100, solver='cholesky', tol=0.0001, random_state=42)\n",
    "ridge_regression.fit(X_train, y_train)"
   ]
  },
  {
   "cell_type": "code",
   "execution_count": 17,
   "metadata": {
    "pycharm": {
     "is_executing": true
    }
   },
   "outputs": [],
   "source": [
    "test_pred_ridge_regression = ridge_regression.predict(X_test)\n",
    "train_pred_ridge_regression = ridge_regression.predict(X_train)"
   ]
  },
  {
   "cell_type": "code",
   "execution_count": 18,
   "metadata": {
    "pycharm": {
     "is_executing": true
    }
   },
   "outputs": [
    {
     "name": "stdout",
     "output_type": "stream",
     "text": [
      "Регрессия гребня\n",
      "\n",
      "Оценка тестового набора:\n",
      "\n",
      "MAE: 80995.02167280123\n",
      "MSE: 10162063037.444983\n",
      "RMSE: 100807.05847035207\n",
      "R2 Square 0.9174033945344908\n",
      "\n",
      "Оценка тренировочного набора:\n",
      "\n",
      "MAE: 81925.75280276715\n",
      "MSE: 10331167369.014244\n",
      "RMSE: 101642.35027297551\n",
      "R2 Square 0.9173801693353605\n",
      "\n"
     ]
    }
   ],
   "source": [
    "print('Регрессия гребня\\n')\n",
    "print('Оценка тестового набора:\\n')\n",
    "print_metrics(y_test, test_pred_ridge_regression)\n",
    "print('Оценка тренировочного набора:\\n')\n",
    "print_metrics(y_train, train_pred_ridge_regression)"
   ]
  },
  {
   "cell_type": "markdown",
   "metadata": {},
   "source": [
    "R2 Square 0.9173801693353605\n"
   ]
  },
  {
   "cell_type": "markdown",
   "metadata": {},
   "source": [
    "# Регрессия LASSO"
   ]
  },
  {
   "cell_type": "code",
   "execution_count": 19,
   "metadata": {
    "pycharm": {
     "is_executing": true
    }
   },
   "outputs": [
    {
     "data": {
      "text/plain": [
       "Lasso(alpha=0.1, positive=True, precompute=True, random_state=42,\n",
       "      selection='random')"
      ]
     },
     "execution_count": 19,
     "metadata": {},
     "output_type": "execute_result"
    }
   ],
   "source": [
    "lasso_regression = Lasso(alpha=0.1, precompute=True, positive=True,\n",
    "                         selection='random', random_state=42)\n",
    "lasso_regression.fit(X_train, y_train)"
   ]
  },
  {
   "cell_type": "code",
   "execution_count": 20,
   "metadata": {
    "pycharm": {
     "is_executing": true
    }
   },
   "outputs": [],
   "source": [
    "test_pred_LASSO_regression = lasso_regression.predict(X_test)\n",
    "train_pred_LASSO_regression = lasso_regression.predict(X_train)"
   ]
  },
  {
   "cell_type": "code",
   "execution_count": 21,
   "metadata": {
    "pycharm": {
     "is_executing": true
    }
   },
   "outputs": [
    {
     "name": "stdout",
     "output_type": "stream",
     "text": [
      "Регрессия LASSO\n",
      "\n",
      "Оценка тестового набора:\n",
      "\n",
      "MAE: 80879.23132573774\n",
      "MSE: 10089072746.54004\n",
      "RMSE: 100444.37638086086\n",
      "R2 Square 0.917996655001236\n",
      "\n",
      "Оценка тренировочного набора:\n",
      "\n",
      "MAE: 81509.54922857058\n",
      "MSE: 10256318921.380966\n",
      "RMSE: 101273.48577678645\n",
      "R2 Square 0.9179787431313402\n",
      "\n"
     ]
    }
   ],
   "source": [
    "print('Регрессия LASSO\\n')\n",
    "print('Оценка тестового набора:\\n')\n",
    "print_metrics(y_test, test_pred_LASSO_regression)\n",
    "print('Оценка тренировочного набора:\\n')\n",
    "print_metrics(y_train, train_pred_LASSO_regression)"
   ]
  },
  {
   "cell_type": "markdown",
   "metadata": {},
   "source": [
    "# Полиномиальная регрессия"
   ]
  },
  {
   "cell_type": "code",
   "execution_count": 22,
   "metadata": {
    "pycharm": {
     "is_executing": true
    }
   },
   "outputs": [],
   "source": [
    "polynomial_regression = PolynomialFeatures(degree=2)"
   ]
  },
  {
   "cell_type": "code",
   "execution_count": 23,
   "metadata": {
    "pycharm": {
     "is_executing": true
    }
   },
   "outputs": [],
   "source": [
    "X_train_2_d = polynomial_regression.fit_transform(X_train)\n",
    "X_test_2_d = polynomial_regression.transform(X_test)\n",
    "\n",
    "linear_regression_for_polynomial = LinearRegression(normalize=True)\n",
    "linear_regression_for_polynomial.fit(X_train_2_d,y_train)\n",
    "\n",
    "test_pred_polynomial_regression= linear_regression_for_polynomial.predict(X_test_2_d)\n",
    "train_pred_polynomial_regression = linear_regression_for_polynomial.predict(X_train_2_d)"
   ]
  },
  {
   "cell_type": "code",
   "execution_count": 24,
   "metadata": {
    "pycharm": {
     "is_executing": true
    }
   },
   "outputs": [
    {
     "name": "stdout",
     "output_type": "stream",
     "text": [
      "Полиномиальная регрессия\n",
      "\n",
      "Оценка тестового набора:\n",
      "\n",
      "MAE: 80886.67204231035\n",
      "MSE: 10099268148.792528\n",
      "RMSE: 100495.11504940192\n",
      "R2 Square 0.9179137874167398\n",
      "\n",
      "Оценка тренировочного набора:\n",
      "\n",
      "MAE: 81387.55946584558\n",
      "MSE: 10235274577.766567\n",
      "RMSE: 101169.5338417973\n",
      "R2 Square 0.9181470377725716\n",
      "\n"
     ]
    }
   ],
   "source": [
    "print('Полиномиальная регрессия\\n')\n",
    "print('Оценка тестового набора:\\n')\n",
    "print_metrics(y_test, test_pred_polynomial_regression)\n",
    "print('Оценка тренировочного набора:\\n')\n",
    "print_metrics(y_train, train_pred_polynomial_regression)"
   ]
  },
  {
   "cell_type": "markdown",
   "metadata": {},
   "source": [
    "# Стохастический Градиентный спуск"
   ]
  },
  {
   "cell_type": "code",
   "execution_count": 25,
   "metadata": {
    "pycharm": {
     "is_executing": true
    }
   },
   "outputs": [
    {
     "data": {
      "text/plain": [
       "SGDRegressor(eta0=0.0001, max_iter=100000, n_iter_no_change=250, penalty=None)"
      ]
     },
     "execution_count": 25,
     "metadata": {},
     "output_type": "execute_result"
    }
   ],
   "source": [
    "sgd_regression = SGDRegressor(n_iter_no_change=250, penalty=None, eta0=0.0001, max_iter=100000)\n",
    "sgd_regression.fit(X_train, y_train)"
   ]
  },
  {
   "cell_type": "code",
   "execution_count": 26,
   "metadata": {
    "pycharm": {
     "is_executing": true
    }
   },
   "outputs": [],
   "source": [
    "test_pred_sgd_regression = sgd_regression.predict(X_test)\n",
    "train_pred_sgd_regression = sgd_regression.predict(X_train)"
   ]
  },
  {
   "cell_type": "code",
   "execution_count": 27,
   "metadata": {
    "pycharm": {
     "is_executing": true
    }
   },
   "outputs": [
    {
     "name": "stdout",
     "output_type": "stream",
     "text": [
      "Стохастический Градиентный спуск\n",
      "\n",
      "Оценка тестового набора:\n",
      "\n",
      "MAE: 80879.09429471445\n",
      "MSE: 10089008104.716835\n",
      "RMSE: 100444.0546011402\n",
      "R2 Square 0.9179971804058854\n",
      "\n",
      "Оценка тренировочного набора:\n",
      "\n",
      "MAE: 81509.39485577661\n",
      "MSE: 10256318867.596985\n",
      "RMSE: 101273.48551124813\n",
      "R2 Square 0.9179787435614584\n",
      "\n"
     ]
    }
   ],
   "source": [
    "print('Стохастический Градиентный спуск\\n')\n",
    "print('Оценка тестового набора:\\n')\n",
    "print_metrics(y_test, test_pred_sgd_regression)\n",
    "print('Оценка тренировочного набора:\\n')\n",
    "print_metrics(y_train, train_pred_sgd_regression)"
   ]
  },
  {
   "cell_type": "markdown",
   "metadata": {},
   "source": [
    "# Метод опорных векторов"
   ]
  },
  {
   "cell_type": "code",
   "execution_count": 28,
   "metadata": {
    "pycharm": {
     "is_executing": true
    }
   },
   "outputs": [
    {
     "data": {
      "text/plain": [
       "SVR(C=1000000, epsilon=0.001)"
      ]
     },
     "execution_count": 28,
     "metadata": {},
     "output_type": "execute_result"
    }
   ],
   "source": [
    "svm_regression = SVR(kernel='rbf', C=1000000, epsilon=0.001)\n",
    "svm_regression.fit(X_train, y_train)"
   ]
  },
  {
   "cell_type": "code",
   "execution_count": 29,
   "metadata": {
    "pycharm": {
     "is_executing": true
    }
   },
   "outputs": [],
   "source": [
    "test_pred_svm_regression = svm_regression.predict(X_test)\n",
    "train_pred_svm_regression = svm_regression.predict(X_train)"
   ]
  },
  {
   "cell_type": "code",
   "execution_count": 30,
   "metadata": {
    "pycharm": {
     "is_executing": true
    }
   },
   "outputs": [
    {
     "name": "stdout",
     "output_type": "stream",
     "text": [
      "Метод опорных векторов\n",
      "\n",
      "Оценка тестового набора:\n",
      "\n",
      "MAE: 87109.10221419216\n",
      "MSE: 11963457919.118093\n",
      "RMSE: 109377.59331379573\n",
      "R2 Square 0.9027617709014857\n",
      "\n",
      "Оценка тренировочного набора:\n",
      "\n",
      "MAE: 74229.75847145652\n",
      "MSE: 9412216645.75215\n",
      "RMSE: 97016.57923134658\n",
      "R2 Square 0.9247291503781782\n",
      "\n"
     ]
    }
   ],
   "source": [
    "print('Метод опорных векторов\\n')\n",
    "print('Оценка тестового набора:\\n')\n",
    "print_metrics(y_test, test_pred_svm_regression)\n",
    "print('Оценка тренировочного набора:\\n')\n",
    "print_metrics(y_train, train_pred_svm_regression)"
   ]
  }
 ],
 "metadata": {
  "kernelspec": {
   "display_name": "Python 3",
   "language": "python",
   "name": "python3"
  },
  "language_info": {
   "codemirror_mode": {
    "name": "ipython",
    "version": 3
   },
   "file_extension": ".py",
   "mimetype": "text/x-python",
   "name": "python",
   "nbconvert_exporter": "python",
   "pygments_lexer": "ipython3",
   "version": "3.8.3"
  }
 },
 "nbformat": 4,
 "nbformat_minor": 4
}
